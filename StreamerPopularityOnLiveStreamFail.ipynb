{
 "cells": [
  {
   "cell_type": "code",
   "execution_count": 1,
   "metadata": {},
   "outputs": [],
   "source": [
    "from requests import get\n",
    "from datetime import datetime, timezone\n",
    "import re\n",
    "import sys\n",
    "import time\n",
    "import matplotlib.pyplot as plt\n",
    "import numpy as np\n",
    "import operator\n",
    "\n",
    "# popular streamers\n",
    "streamnames = { \"xqc\": [\"xqc\"], \"summit\": [\"summit\"], \"tyler1\": [\"tyler\", \"t1\"], \"mizkif\": [\"miz\", \"mizkif\"], \"erobb\": [\"erobb\", \"wrobb\", \"lrobb\"], \"soda\": [\"soda\", \"chance morris\"],\n",
    "                \"josh\": [\"josh\"], \"forsen\": [\"forsen\"], \"destiny\": [\"destiny\"], \"doc\": [\"doc\", \"drdisrespect\"], \"pokelawls\": [\"poke\", \"pokelawls\"], \"pokimane\": [\"poki\", \"pokimane\"],\n",
    "                \"mitch\": [\"mitch\"], \"hassan\": [\"hassan\", \"hasan\", \"hasanabi\"], \"asmon\": [\"asmon\"], \"trainwreck\": [\"train\"], \"alinity\": [\"alinity\"], \"greek\": [\"greek\"], \"maya\": [\"maya\"],\n",
    "                \"anita\": [\"anita\"], \"lirik\": [\"lirik\"], \"shroud\": [\"shroud\"], \"ice\": [\"^ice\", \" ice\" \"cx\"], \"moon\": [\"moon\"], \"qt\": [\"qt\"], \"rajj\": [\"rajj\"], \"ninja\": [\"ninja\"]}\n",
    "\n",
    "allDates = [datetime(2019,4,30), datetime(2019,3,31), datetime(2019,2,28), datetime(2019,1,31), datetime(2018,12,31), datetime(2018,11,30), datetime(2018,10,31),\n",
    "                datetime(2018,9,30), datetime(2018,8,31), datetime(2018,7,31), datetime(2018,6,30), datetime(2018,5,31), datetime(2018,4,30), datetime(2018,3,31),\n",
    "                datetime(2018,2,28), datetime(2018,1,31), datetime(2017,12,31), datetime(2017,11,30), datetime(2017,10,31), datetime(2017,9,30), datetime(2017,8,31),\n",
    "                datetime(2017,7,31), datetime(2017,6,30), datetime(2017,5,31), datetime(2017,4,30), datetime(2017,3,31), datetime(2017,2,28), datetime(2017,1,31),\n",
    "                datetime(2016,12,31)]\n",
    "streamcount = {key: 0 for key in streamnames}\n",
    "topOfMonth = []"
   ]
  },
  {
   "cell_type": "code",
   "execution_count": 3,
   "metadata": {},
   "outputs": [
    {
     "name": "stdout",
     "output_type": "stream",
     "text": [
      "['mizkif', 'xqc', 'xqc', 'xqc', 'xqc', 'xqc', 'xqc', 'xqc', 'xqc', 'xqc', 'xqc', 'xqc', 'xqc', 'xqc', 'xqc', 'greek', 'ice', 'greek', 'greek', 'greek', 'greek', 'greek', 'mitch', 'soda', 'forsen', 'tyler1', 'doc', 'ice', 'greek', 'lirik', 'doc', 'tyler1', 'tyler1']\n"
     ]
    }
   ],
   "source": [
    "date = datetime.utcnow()\n",
    "timeUTC = time.mktime(date.timetuple())\n",
    "toAdd = get('https://api.pushshift.io/reddit/search/submission/?subreddit=LivestreamFail&sort=desc&sort_type=created_utc&before=' + str(timeUTC)[:-2] + '&limit=500')\n",
    "for aDate in allDates:\n",
    "    timestamp = time.mktime(aDate.timetuple())\n",
    "    nameDate = str(date)[:7]\n",
    "    while datetime.fromtimestamp(timestamp) < date:\n",
    "        title = \"\"\n",
    "        score = 0\n",
    "        timeUTC = 0\n",
    "\n",
    "        post = toAdd.text\n",
    "        splitpost = post.split(\"\\\"author\\\": \")\n",
    "\n",
    "        for item in splitpost:\n",
    "            if re.search(\"\\\"score\\\"\", item) is not None:\n",
    "                score = re.search(\"\\\"score\\\": .*\", item).group(0)\n",
    "                score = score[9:-1]\n",
    "            if re.search(\"\\\"title\\\"\", item) is not None:\n",
    "                title = re.search(\"\\\"title\\\": .*\\\"\", item).group(0)\n",
    "                title = title[10:-1].lower()\n",
    "            if re.search(\"\\\"created_utc\\\"\", item) is not None:\n",
    "                created_utc = re.search(\"\\\"created_utc\\\": .*\", item).group(0)\n",
    "                timeUTC = created_utc.split(\" \")\n",
    "                timeUTC = timeUTC[-1][:-1]\n",
    "                \n",
    "            date = datetime.utcfromtimestamp(float(timeUTC))\n",
    "\n",
    "            for aname in streamnames:\n",
    "                for name in streamnames[aname]:\n",
    "                    if re.search(name, title) is not None:\n",
    "                        streamcount[aname] = streamcount[aname] + 1\n",
    "\n",
    "        if re.search(\"\\\\.\", str(timeUTC)) is not None:\n",
    "            timeUTC = str(timeUTC)[:-2]\n",
    "        toAdd = get('https://api.pushshift.io/reddit/search/submission/?subreddit=LivestreamFail&sort=desc&sort_type=created_utc&before=' + str(timeUTC) + '&limit=500')\n",
    "        #print(toAdd) \n",
    "\n",
    "    # building plot\n",
    "    plt.rcdefaults()\n",
    "    fig, ax = plt.subplots()\n",
    "    peoplelist = []\n",
    "    popularity = []\n",
    "    for key in streamcount:\n",
    "        peoplelist.append(key)\n",
    "        popularity.append(streamcount[key])\n",
    "\n",
    "    y_pos = np.arange(len(peoplelist))\n",
    "\n",
    "    ax.barh(y_pos, popularity, align='center')\n",
    "    ax.set_yticks(y_pos)\n",
    "    ax.set_yticklabels(peoplelist)\n",
    "    ax.invert_yaxis()\n",
    "    ax.set_xlabel('Mentions in Titles')\n",
    "    ax.set_title('Streamer Popularity on /r/LiveStreamFail for ' + nameDate )\n",
    "\n",
    "    # ensures bad dates are not used \n",
    "    if date.year < datetime(2015,1,1).year:\n",
    "        continue\n",
    "\n",
    "    plt.savefig(str(nameDate+'.png'))\n",
    "\n",
    "    topOfMonth.append(max(streamcount.items(), key=operator.itemgetter(1))[0])\n",
    "    streamcount = {key: 0 for key in streamcount}\n",
    "\n",
    "    plt.close()\n",
    "\n",
    "print(topOfMonth)"
   ]
  },
  {
   "cell_type": "code",
   "execution_count": null,
   "metadata": {},
   "outputs": [],
   "source": []
  }
 ],
 "metadata": {
  "kernelspec": {
   "display_name": "Python 3",
   "language": "python",
   "name": "python3"
  },
  "language_info": {
   "codemirror_mode": {
    "name": "ipython",
    "version": 3
   },
   "file_extension": ".py",
   "mimetype": "text/x-python",
   "name": "python",
   "nbconvert_exporter": "python",
   "pygments_lexer": "ipython3",
   "version": "3.7.3"
  }
 },
 "nbformat": 4,
 "nbformat_minor": 2
}
